{
 "cells": [
  {
   "cell_type": "markdown",
   "id": "3fd62206",
   "metadata": {},
   "source": [
    "#                                  MAJOR PROJECT \n",
    "\n",
    "***Project Name:***\n",
    "Artifical intelligence june major project \n",
    "\n",
    "*** Project Description ***\n",
    "\n",
    "***problem statement: ***\n",
    "Create a deep learning model to predict the different hand signs images ."
   ]
  },
  {
   "cell_type": "markdown",
   "id": "8990f1e8",
   "metadata": {},
   "source": [
    "### Steps to consider:\n",
    "\n",
    "1. Normalize images by dividing pixels by 255 (if required)\n",
    "2. Convert labels to categories (if required)\n",
    "3. Reshape images so as to fit them to convolution\n",
    "4. Build a CNN Architecture\n",
    "5. Execute the model for appropriate number of epochs\n",
    "6. Depict loss vs. val_loss on line chart.\n",
    "7. Depict accuracy vs. val_accuracy on line chart.\n",
    "8. Generate predictions on test_data.\n",
    "9. Compute Confusion matrix and classification report"
   ]
  },
  {
   "cell_type": "markdown",
   "id": "9d36794e",
   "metadata": {},
   "source": [
    "**Source**: https://en.wikipedia.org/wiki/Sign_language\n",
    "**Dataset** – Download from\n",
    "https://www.kaggle.com/datasets/ardamavi/sign-language-digits-dataset\n",
    "\n",
    "**Details of datasets:**\n",
    "1. Image size: 64x64\n",
    "2. Color space: Grayscale\n",
    "3. File format: npy\n",
    "4. Number of classes: 10 (Digits: 0-9)\n"
   ]
  },
  {
   "cell_type": "markdown",
   "id": "6d4e81d8",
   "metadata": {},
   "source": [
    "***all required imports***"
   ]
  },
  {
   "cell_type": "code",
   "execution_count": 3,
   "id": "4318f71f",
   "metadata": {},
   "outputs": [],
   "source": [
    "import numpy as np \n",
    "import pandas as pd\n",
    "import seaborn as sns\n",
    "from sklearn.metrics import confusion_matrix \n",
    "from keras.models import Sequential \n",
    "from keras.layers import Dense, Dropout, Flatten, Conv2D, MaxPool2D\n",
    "from keras.optimizers import Adam\n",
    "from keras.callbacks import ReduceLROnPlateau\n",
    "from keras.preprocessing.image import ImageDataGenerator\n",
    "from sklearn.model_selection import train_test_split\n",
    "import matplotlib.pyplot as plt\n",
    "from sklearn.metrics import confusion_matrix ,classification_report\n"
   ]
  },
  {
   "cell_type": "markdown",
   "id": "64a4548d",
   "metadata": {},
   "source": [
    "**1. load the downloaded files**"
   ]
  },
  {
   "cell_type": "code",
   "execution_count": 4,
   "id": "86f9e0ee",
   "metadata": {},
   "outputs": [],
   "source": [
    "all_X = np.load('X.npy')\n",
    "all_Y = np.load('Y.npy')\n"
   ]
  },
  {
   "cell_type": "markdown",
   "id": "ef8ee1cc",
   "metadata": {},
   "source": [
    "**2. preprrocessing  the datasets**"
   ]
  },
  {
   "cell_type": "code",
   "execution_count": 5,
   "id": "41e40be5",
   "metadata": {},
   "outputs": [],
   "source": [
    "test_size = 0.15\n",
    "X_train, X_test, Y_train, Y_test = train_test_split(all_X, all_Y, test_size=test_size, random_state=42)\n",
    "# Reshape\n",
    "X_train = X_train.reshape(-1, 64, 64,1)\n",
    "X_test = X_test.reshape(-1, 64, 64, 1)"
   ]
  },
  {
   "cell_type": "markdown",
   "id": "aced4ca0",
   "metadata": {},
   "source": [
    "**3. Building a CNN Arichitecture**"
   ]
  },
  {
   "cell_type": "code",
   "execution_count": 6,
   "id": "d5e72e98",
   "metadata": {},
   "outputs": [],
   "source": [
    "model = Sequential()\n",
    "\n",
    "model.add(Conv2D(filters = 8, kernel_size = (5,5), padding = 'same', activation = 'relu', input_shape = (64, 64, 1)))\n",
    "model.add(MaxPool2D(pool_size = (2,2)))\n",
    "model.add(Dropout(0.25))\n",
    "\n",
    "model.add(Conv2D(filters = 16, kernel_size = (3,3), padding = 'Same', activation = 'relu'))\n",
    "model.add(MaxPool2D(pool_size = (2,2)))\n",
    "model.add(Dropout(0.25))\n",
    "\n",
    "model.add(Conv2D(filters = 32, kernel_size = (3,3), padding = 'Same', activation = 'relu'))\n",
    "model.add(MaxPool2D(pool_size = (2,2)))\n",
    "model.add(Dropout(0.25))\n",
    "\n",
    "\n",
    "model.add(Conv2D(filters = 64, kernel_size = (3,3), padding = 'Same', activation = 'relu'))\n",
    "model.add(MaxPool2D(pool_size = (2,2)))\n",
    "model.add(Dropout(0.25))\n",
    "\n",
    "# fully connected\n",
    "model.add(Flatten())\n",
    "\n",
    "model.add(Dense(128, activation = 'relu'))\n",
    "model.add(Dense(64, activation = 'relu'))\n",
    "model.add(Dense(10, activation = 'softmax'))"
   ]
  },
  {
   "cell_type": "code",
   "execution_count": 7,
   "id": "39c19e52",
   "metadata": {},
   "outputs": [
    {
     "name": "stdout",
     "output_type": "stream",
     "text": [
      "Model: \"sequential\"\n",
      "_________________________________________________________________\n",
      " Layer (type)                Output Shape              Param #   \n",
      "=================================================================\n",
      " conv2d (Conv2D)             (None, 64, 64, 8)         208       \n",
      "                                                                 \n",
      " max_pooling2d (MaxPooling2D  (None, 32, 32, 8)        0         \n",
      " )                                                               \n",
      "                                                                 \n",
      " dropout (Dropout)           (None, 32, 32, 8)         0         \n",
      "                                                                 \n",
      " conv2d_1 (Conv2D)           (None, 32, 32, 16)        1168      \n",
      "                                                                 \n",
      " max_pooling2d_1 (MaxPooling  (None, 16, 16, 16)       0         \n",
      " 2D)                                                             \n",
      "                                                                 \n",
      " dropout_1 (Dropout)         (None, 16, 16, 16)        0         \n",
      "                                                                 \n",
      " conv2d_2 (Conv2D)           (None, 16, 16, 32)        4640      \n",
      "                                                                 \n",
      " max_pooling2d_2 (MaxPooling  (None, 8, 8, 32)         0         \n",
      " 2D)                                                             \n",
      "                                                                 \n",
      " dropout_2 (Dropout)         (None, 8, 8, 32)          0         \n",
      "                                                                 \n",
      " conv2d_3 (Conv2D)           (None, 8, 8, 64)          18496     \n",
      "                                                                 \n",
      " max_pooling2d_3 (MaxPooling  (None, 4, 4, 64)         0         \n",
      " 2D)                                                             \n",
      "                                                                 \n",
      " dropout_3 (Dropout)         (None, 4, 4, 64)          0         \n",
      "                                                                 \n",
      " flatten (Flatten)           (None, 1024)              0         \n",
      "                                                                 \n",
      " dense (Dense)               (None, 128)               131200    \n",
      "                                                                 \n",
      " dense_1 (Dense)             (None, 64)                8256      \n",
      "                                                                 \n",
      " dense_2 (Dense)             (None, 10)                650       \n",
      "                                                                 \n",
      "=================================================================\n",
      "Total params: 164,618\n",
      "Trainable params: 164,618\n",
      "Non-trainable params: 0\n",
      "_________________________________________________________________\n"
     ]
    }
   ],
   "source": [
    "model.summary()"
   ]
  },
  {
   "cell_type": "code",
   "execution_count": 8,
   "id": "fa383aae",
   "metadata": {},
   "outputs": [],
   "source": [
    "model.compile(optimizer = 'Adam', loss = \"categorical_crossentropy\", metrics=[\"accuracy\"])"
   ]
  },
  {
   "cell_type": "markdown",
   "id": "dac51d90",
   "metadata": {},
   "source": [
    "**4. Executing the model for 10 number of epochs**"
   ]
  },
  {
   "cell_type": "code",
   "execution_count": 9,
   "id": "3ab688eb",
   "metadata": {},
   "outputs": [
    {
     "name": "stdout",
     "output_type": "stream",
     "text": [
      "Epoch 1/20\n",
      "55/55 [==============================] - 4s 59ms/step - loss: 2.3069 - accuracy: 0.0993 - val_loss: 2.3031 - val_accuracy: 0.1097\n",
      "Epoch 2/20\n",
      "55/55 [==============================] - 3s 55ms/step - loss: 2.3031 - accuracy: 0.0873 - val_loss: 2.3040 - val_accuracy: 0.0871\n",
      "Epoch 3/20\n",
      "55/55 [==============================] - 3s 55ms/step - loss: 2.3027 - accuracy: 0.1062 - val_loss: 2.3043 - val_accuracy: 0.1290\n",
      "Epoch 4/20\n",
      "55/55 [==============================] - 3s 55ms/step - loss: 2.3020 - accuracy: 0.1045 - val_loss: 2.3059 - val_accuracy: 0.1258\n",
      "Epoch 5/20\n",
      "55/55 [==============================] - 3s 55ms/step - loss: 2.3034 - accuracy: 0.1033 - val_loss: 2.3039 - val_accuracy: 0.0774\n",
      "Epoch 6/20\n",
      "55/55 [==============================] - 3s 55ms/step - loss: 2.3010 - accuracy: 0.1113 - val_loss: 2.3025 - val_accuracy: 0.0774\n",
      "Epoch 7/20\n",
      "55/55 [==============================] - 3s 56ms/step - loss: 2.1369 - accuracy: 0.2021 - val_loss: 1.6377 - val_accuracy: 0.5000\n",
      "Epoch 8/20\n",
      "55/55 [==============================] - 3s 55ms/step - loss: 1.2322 - accuracy: 0.5668 - val_loss: 0.8176 - val_accuracy: 0.7194\n",
      "Epoch 9/20\n",
      "55/55 [==============================] - 3s 55ms/step - loss: 0.7856 - accuracy: 0.7352 - val_loss: 0.6178 - val_accuracy: 0.7903\n",
      "Epoch 10/20\n",
      "55/55 [==============================] - 3s 55ms/step - loss: 0.5838 - accuracy: 0.8002 - val_loss: 0.3547 - val_accuracy: 0.9065\n",
      "Epoch 11/20\n",
      "55/55 [==============================] - 3s 55ms/step - loss: 0.4486 - accuracy: 0.8596 - val_loss: 0.2484 - val_accuracy: 0.9290\n",
      "Epoch 12/20\n",
      "55/55 [==============================] - 3s 55ms/step - loss: 0.3521 - accuracy: 0.8887 - val_loss: 0.2443 - val_accuracy: 0.9194\n",
      "Epoch 13/20\n",
      "55/55 [==============================] - 3s 58ms/step - loss: 0.3055 - accuracy: 0.8995 - val_loss: 0.2040 - val_accuracy: 0.9387\n",
      "Epoch 14/20\n",
      "55/55 [==============================] - 3s 53ms/step - loss: 0.2703 - accuracy: 0.9132 - val_loss: 0.1679 - val_accuracy: 0.9387\n",
      "Epoch 15/20\n",
      "55/55 [==============================] - 3s 53ms/step - loss: 0.2159 - accuracy: 0.9378 - val_loss: 0.1352 - val_accuracy: 0.9677\n",
      "Epoch 16/20\n",
      "55/55 [==============================] - 3s 53ms/step - loss: 0.2198 - accuracy: 0.9355 - val_loss: 0.1337 - val_accuracy: 0.9516\n",
      "Epoch 17/20\n",
      "55/55 [==============================] - 3s 55ms/step - loss: 0.1700 - accuracy: 0.9458 - val_loss: 0.1306 - val_accuracy: 0.9548\n",
      "Epoch 18/20\n",
      "55/55 [==============================] - 3s 55ms/step - loss: 0.1634 - accuracy: 0.9429 - val_loss: 0.1148 - val_accuracy: 0.9677\n",
      "Epoch 19/20\n",
      "55/55 [==============================] - 3s 55ms/step - loss: 0.1546 - accuracy: 0.9446 - val_loss: 0.1019 - val_accuracy: 0.9645\n",
      "Epoch 20/20\n",
      "55/55 [==============================] - 3s 54ms/step - loss: 0.1502 - accuracy: 0.9526 - val_loss: 0.1107 - val_accuracy: 0.9581\n"
     ]
    }
   ],
   "source": [
    "epochs = 20  # for better result increase the epochs\n",
    "batch_size = 250\n",
    "\n",
    "SH = model.fit(X_train, Y_train,epochs=epochs, validation_data=(X_test,Y_test))"
   ]
  },
  {
   "cell_type": "code",
   "execution_count": 10,
   "id": "769b365b",
   "metadata": {},
   "outputs": [
    {
     "name": "stdout",
     "output_type": "stream",
     "text": [
      "10/10 [==============================] - 0s 17ms/step - loss: 0.1107 - accuracy: 0.9581\n",
      "[0.11074981838464737, 0.9580644965171814]\n"
     ]
    }
   ],
   "source": [
    "scores=model.evaluate(X_test,Y_test)\n",
    "print(scores)"
   ]
  },
  {
   "cell_type": "markdown",
   "id": "3b1bb38e",
   "metadata": {},
   "source": [
    "**5. depict loss vs val_loss on line chart**"
   ]
  },
  {
   "cell_type": "code",
   "execution_count": 11,
   "id": "bd0ad0ff",
   "metadata": {},
   "outputs": [
    {
     "data": {
      "image/png": "[encoded data removed]",
      "text/plain": [
       "<Figure size 432x288 with 1 Axes>"
      ]
     },
     "metadata": {
      "needs_background": "light"
     },
     "output_type": "display_data"
    }
   ],
   "source": [
    "r1=pd.DataFrame(SH.history)\n",
    "r1['Epochs']=SH.epoch\n",
    "plt.plot(r1['Epochs'],r1['loss'],label='train')\n",
    "plt.plot(r1['Epochs'],r1['val_loss'],label='test')\n",
    "plt.xlabel(\"Epochs\")\n",
    "plt.ylabel(\"loss\")\n",
    "plt.legend()\n",
    "plt.grid()\n",
    "plt.show()"
   ]
  },
  {
   "cell_type": "markdown",
   "id": "f6f7c0c2",
   "metadata": {},
   "source": [
    "**6. depict accuracy vy val_accuracy on line chart**"
   ]
  },
  {
   "cell_type": "code",
   "execution_count": 12,
   "id": "2a8c4887",
   "metadata": {},
   "outputs": [
    {
     "data": {
      "image/png": "[encoded data removed]",
      "text/plain": [
       "<Figure size 432x288 with 1 Axes>"
      ]
     },
     "metadata": {
      "needs_background": "light"
     },
     "output_type": "display_data"
    }
   ],
   "source": [
    "plt.plot(r1['Epochs'],r1['accuracy'],label='train')\n",
    "plt.plot(r1['Epochs'],r1['val_accuracy'],label='test')\n",
    "plt.xlabel(\"Epochs\")\n",
    "plt.ylabel(\"Accuracy\")\n",
    "plt.legend()\n",
    "plt.grid()\n",
    "plt.show()"
   ]
  },
  {
   "cell_type": "markdown",
   "id": "a8b08ab8",
   "metadata": {},
   "source": [
    "**7. generating predictions on test_data**"
   ]
  },
  {
   "cell_type": "code",
   "execution_count": 13,
   "id": "8117b19e",
   "metadata": {},
   "outputs": [
    {
     "data": {
      "text/plain": [
       "array([1.3433081e-08, 3.9396266e-08, 2.0708638e-05, 5.8635475e-08,\n",
       "       2.4275640e-12, 2.5632281e-07, 3.3082604e-06, 1.3764577e-04,\n",
       "       1.6774368e-12, 9.9983799e-01], dtype=float32)"
      ]
     },
     "execution_count": 13,
     "metadata": {},
     "output_type": "execute_result"
    }
   ],
   "source": [
    "y_pred =model.predict(X_test,batch_size=128,verbose=0)\n",
    "\n",
    "y_pred[1]"
   ]
  },
  {
   "cell_type": "code",
   "execution_count": 14,
   "id": "7c6cfbb7",
   "metadata": {},
   "outputs": [
    {
     "data": {
      "text/plain": [
       "array([0., 0., 0., 0., 0., 0., 0., 0., 0., 1.])"
      ]
     },
     "execution_count": 14,
     "metadata": {},
     "output_type": "execute_result"
    }
   ],
   "source": [
    "Y_test[1]"
   ]
  },
  {
   "cell_type": "code",
   "execution_count": 15,
   "id": "148dac82",
   "metadata": {},
   "outputs": [
    {
     "data": {
      "text/plain": [
       "9"
      ]
     },
     "execution_count": 15,
     "metadata": {},
     "output_type": "execute_result"
    }
   ],
   "source": [
    "import numpy as np \n",
    "sh1=np.argmax(Y_test,axis=1)\n",
    "sh1[1]"
   ]
  },
  {
   "cell_type": "markdown",
   "id": "1dd81c71",
   "metadata": {},
   "source": [
    "**8. computing confusion matrix and classification report**"
   ]
  },
  {
   "cell_type": "code",
   "execution_count": 16,
   "id": "6ab41a7a",
   "metadata": {},
   "outputs": [],
   "source": [
    "Y_pred_classes = np.argmax(y_pred,axis = 1) \n",
    "Y_true = np.argmax(Y_test,axis = 1)\n",
    "confusion_mtx = confusion_matrix(Y_true, Y_pred_classes)"
   ]
  },
  {
   "cell_type": "code",
   "execution_count": 26,
   "id": "017fd2ed",
   "metadata": {},
   "outputs": [
    {
     "data": {
      "image/png": "[encoded data removed]",
      "text/plain": [
       "<Figure size 576x576 with 2 Axes>"
      ]
     },
     "metadata": {
      "needs_background": "light"
     },
     "output_type": "display_data"
    },
    {
     "name": "stdout",
     "output_type": "stream",
     "text": [
      "Train accuracy :  0.952625572681427\n",
      "Train loss :  0.15017074346542358\n",
      "Test accuracy :  0.9580644965171814\n",
      "Test loss : 0.11074981838464737\n"
     ]
    }
   ],
   "source": [
    "f,ax = plt.subplots(figsize=(8, 8))\n",
    "sns.heatmap(confusion_mtx, annot=True, linewidths=0.01,cmap=\"Blues\",linecolor=\"black\", fmt= '.1f',ax=ax)\n",
    "plt.xlabel(\"Predicted Label\")\n",
    "plt.ylabel(\"True Label\")\n",
    "plt.title(\"Confusion Matrix\")\n",
    "plt.show()\n",
    "\n",
    "print('Train accuracy : ',SH.history['accuracy'][-1])\n",
    "print('Train loss : ',SH.history['loss'][-1])\n",
    "print('Test accuracy : ',SH.history['val_accuracy'][-1])\n",
    "print('Test loss :',SH.history['val_loss'][-1])"
   ]
  },
  {
   "cell_type": "code",
   "execution_count": 27,
   "id": "80a9e35e",
   "metadata": {},
   "outputs": [
    {
     "name": "stdout",
     "output_type": "stream",
     "text": [
      "              precision    recall  f1-score   support\n",
      "\n",
      "           0       0.90      1.00      0.95        27\n",
      "           1       0.94      1.00      0.97        32\n",
      "           2       0.93      0.93      0.93        42\n",
      "           3       1.00      0.93      0.96        28\n",
      "           4       1.00      0.96      0.98        24\n",
      "           5       0.92      0.82      0.87        28\n",
      "           6       0.97      0.93      0.95        30\n",
      "           7       1.00      1.00      1.00        30\n",
      "           8       0.94      1.00      0.97        34\n",
      "           9       1.00      1.00      1.00        35\n",
      "\n",
      "    accuracy                           0.96       310\n",
      "   macro avg       0.96      0.96      0.96       310\n",
      "weighted avg       0.96      0.96      0.96       310\n",
      "\n"
     ]
    }
   ],
   "source": [
    "print(classification_report(sh1,y_pred.argmax(axis=1)))"
   ]
  },
  {
   "cell_type": "markdown",
   "id": "1f7e635a",
   "metadata": {},
   "source": [
    "**Done by name**:- Thogaruchesti Hemanth <br>\n",
    "**Batch**:- june "
   ]
  },
  {
   "cell_type": "code",
   "execution_count": null,
   "id": "494a613e",
   "metadata": {},
   "outputs": [],
   "source": []
  }
 ],
 "metadata": {
  "kernelspec": {
   "display_name": "Python 3 (ipykernel)",
   "language": "python",
   "name": "python3"
  },
  "language_info": {
   "codemirror_mode": {
    "name": "ipython",
    "version": 3
   },
   "file_extension": ".py",
   "mimetype": "text/x-python",
   "name": "python",
   "nbconvert_exporter": "python",
   "pygments_lexer": "ipython3",
   "version": "3.9.12"
  }
 },
 "nbformat": 4,
 "nbformat_minor": 5
}
