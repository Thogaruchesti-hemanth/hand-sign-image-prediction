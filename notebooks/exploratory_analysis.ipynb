# exploratory_analysis.py

import numpy as np
import matplotlib.pyplot as plt
from data_loader import load_data

# Load data
X_train, X_test, Y_train, Y_test = load_data()

# Display dataset information
print(f"Training data shape: {X_train.shape}")
print(f"Training labels shape: {Y_train.shape}")
print(f"Test data shape: {X_test.shape}")
print(f"Test labels shape: {Y_test.shape}")

# Display sample images
plt.figure(figsize=(12, 6))
for i in range(10):
    plt.subplot(2, 5, i+1)
    plt.imshow(X_train[i].reshape(64, 64), cmap='gray')
    plt.title(f"Label: {np.argmax(Y_train[i])}")
    plt.axis('off')
plt.tight_layout()
plt.savefig('../results/sample_images.png')
plt.show()

# Display class distribution
train_classes = np.argmax(Y_train, axis=1)
test_classes = np.argmax(Y_test, axis=1)

plt.figure(figsize=(12, 4))
plt.subplot(1, 2, 1)
plt.hist(train_classes, bins=10, rwidth=0.8)
plt.title('Training Set Class Distribution')
plt.xlabel('Class')
plt.ylabel('Count')

plt.subplot(1, 2, 2)
plt.hist(test_classes, bins=10, rwidth=0.8)
plt.title('Test Set Class Distribution')
plt.xlabel('Class')
plt.ylabel('Count')

plt.tight_layout()
plt.savefig('../results/class_distribution.png')
plt.show()
